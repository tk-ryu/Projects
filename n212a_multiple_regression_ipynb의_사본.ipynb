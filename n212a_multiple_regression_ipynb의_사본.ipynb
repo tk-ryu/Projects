{
  "nbformat": 4,
  "nbformat_minor": 0,
  "metadata": {
    "kernelspec": {
      "display_name": "Python 3",
      "language": "python",
      "name": "python3"
    },
    "language_info": {
      "codemirror_mode": {
        "name": "ipython",
        "version": 3
      },
      "file_extension": ".py",
      "mimetype": "text/x-python",
      "name": "python",
      "nbconvert_exporter": "python",
      "pygments_lexer": "ipython3",
      "version": "3.7.7"
    },
    "colab": {
      "name": "n212a-multiple-regression.ipynb의 사본",
      "provenance": [],
      "collapsed_sections": [],
      "include_colab_link": true
    }
  },
  "cells": [
    {
      "cell_type": "markdown",
      "metadata": {
        "id": "view-in-github",
        "colab_type": "text"
      },
      "source": [
        "<a href=\"https://colab.research.google.com/github/ZeusKwon/AI_04_project/blob/main/n212a_multiple_regression_ipynb%EC%9D%98_%EC%82%AC%EB%B3%B8.ipynb\" target=\"_parent\"><img src=\"https://colab.research.google.com/assets/colab-badge.svg\" alt=\"Open In Colab\"/></a>"
      ]
    },
    {
      "cell_type": "markdown",
      "metadata": {
        "id": "m-6dWhb9302w"
      },
      "source": [
        "<img align=\"right\" src=\"https://ds-cs-images.s3.ap-northeast-2.amazonaws.com/Codestates_Fulllogo_Color.png\" width=100>\n",
        "\n",
        "## *DATA SCIENCE / SECTION 2 / SPRINT 1 / NOTE 2*\n",
        "\n",
        "# 📝 Assignment\n",
        "---"
      ]
    },
    {
      "cell_type": "markdown",
      "metadata": {
        "id": "7IXUfiQ2UKj6"
      },
      "source": [
        "# 다중선형회귀(Multiple Linear Regression)\n",
        "\n",
        "이번 과제에서도 n211 과제 에서 다루었던 housing price dataset을 가지고 배운 내용을 연습해 보겠습니다.\n",
        "다음 링크에서 다운로드 받아 사용해 주세요. [House Sales in King County, USA](https://www.kaggle.com/harlfoxem/housesalesprediction)"
      ]
    },
    {
      "cell_type": "code",
      "metadata": {
        "id": "68ZlDGnb302y"
      },
      "source": [
        "# 데이터는 캐글에서 받으셔도 되고 이 링크에서 불러와도 됩니다.\n",
        "import pandas as pd\n",
        "df = pd.read_csv('https://ds-lecture-data.s3.ap-northeast-2.amazonaws.com/kc_house_data/kc_house_data.csv')\n"
      ],
      "execution_count": 3,
      "outputs": []
    },
    {
      "cell_type": "code",
      "metadata": {
        "id": "Xy-TYFN6302z",
        "colab": {
          "base_uri": "https://localhost:8080/"
        },
        "outputId": "1dfe4a5a-3fcd-444d-e820-34cbbd059e67"
      },
      "source": [
        "df.columns"
      ],
      "execution_count": null,
      "outputs": [
        {
          "output_type": "execute_result",
          "data": {
            "text/plain": [
              "Index(['id', 'date', 'price', 'bedrooms', 'bathrooms', 'sqft_living',\n",
              "       'sqft_lot', 'floors', 'waterfront', 'view', 'condition', 'grade',\n",
              "       'sqft_above', 'sqft_basement', 'yr_built', 'yr_renovated', 'zipcode',\n",
              "       'lat', 'long', 'sqft_living15', 'sqft_lot15'],\n",
              "      dtype='object')"
            ]
          },
          "metadata": {
            "tags": []
          },
          "execution_count": 2
        }
      ]
    },
    {
      "cell_type": "code",
      "metadata": {
        "colab": {
          "base_uri": "https://localhost:8080/",
          "height": 224
        },
        "id": "_teeMjSTuqJ3",
        "outputId": "f60080fb-16dc-4713-fe41-c382d4789643"
      },
      "source": [
        "df.head()"
      ],
      "execution_count": null,
      "outputs": [
        {
          "output_type": "execute_result",
          "data": {
            "text/html": [
              "<div>\n",
              "<style scoped>\n",
              "    .dataframe tbody tr th:only-of-type {\n",
              "        vertical-align: middle;\n",
              "    }\n",
              "\n",
              "    .dataframe tbody tr th {\n",
              "        vertical-align: top;\n",
              "    }\n",
              "\n",
              "    .dataframe thead th {\n",
              "        text-align: right;\n",
              "    }\n",
              "</style>\n",
              "<table border=\"1\" class=\"dataframe\">\n",
              "  <thead>\n",
              "    <tr style=\"text-align: right;\">\n",
              "      <th></th>\n",
              "      <th>id</th>\n",
              "      <th>date</th>\n",
              "      <th>price</th>\n",
              "      <th>bedrooms</th>\n",
              "      <th>bathrooms</th>\n",
              "      <th>sqft_living</th>\n",
              "      <th>sqft_lot</th>\n",
              "      <th>floors</th>\n",
              "      <th>waterfront</th>\n",
              "      <th>view</th>\n",
              "      <th>condition</th>\n",
              "      <th>grade</th>\n",
              "      <th>sqft_above</th>\n",
              "      <th>sqft_basement</th>\n",
              "      <th>yr_built</th>\n",
              "      <th>yr_renovated</th>\n",
              "      <th>zipcode</th>\n",
              "      <th>lat</th>\n",
              "      <th>long</th>\n",
              "      <th>sqft_living15</th>\n",
              "      <th>sqft_lot15</th>\n",
              "    </tr>\n",
              "  </thead>\n",
              "  <tbody>\n",
              "    <tr>\n",
              "      <th>0</th>\n",
              "      <td>7129300520</td>\n",
              "      <td>20141013T000000</td>\n",
              "      <td>221900.0</td>\n",
              "      <td>3</td>\n",
              "      <td>1.00</td>\n",
              "      <td>1180</td>\n",
              "      <td>5650</td>\n",
              "      <td>1.0</td>\n",
              "      <td>0</td>\n",
              "      <td>0</td>\n",
              "      <td>3</td>\n",
              "      <td>7</td>\n",
              "      <td>1180</td>\n",
              "      <td>0</td>\n",
              "      <td>1955</td>\n",
              "      <td>0</td>\n",
              "      <td>98178</td>\n",
              "      <td>47.5112</td>\n",
              "      <td>-122.257</td>\n",
              "      <td>1340</td>\n",
              "      <td>5650</td>\n",
              "    </tr>\n",
              "    <tr>\n",
              "      <th>1</th>\n",
              "      <td>6414100192</td>\n",
              "      <td>20141209T000000</td>\n",
              "      <td>538000.0</td>\n",
              "      <td>3</td>\n",
              "      <td>2.25</td>\n",
              "      <td>2570</td>\n",
              "      <td>7242</td>\n",
              "      <td>2.0</td>\n",
              "      <td>0</td>\n",
              "      <td>0</td>\n",
              "      <td>3</td>\n",
              "      <td>7</td>\n",
              "      <td>2170</td>\n",
              "      <td>400</td>\n",
              "      <td>1951</td>\n",
              "      <td>1991</td>\n",
              "      <td>98125</td>\n",
              "      <td>47.7210</td>\n",
              "      <td>-122.319</td>\n",
              "      <td>1690</td>\n",
              "      <td>7639</td>\n",
              "    </tr>\n",
              "    <tr>\n",
              "      <th>2</th>\n",
              "      <td>5631500400</td>\n",
              "      <td>20150225T000000</td>\n",
              "      <td>180000.0</td>\n",
              "      <td>2</td>\n",
              "      <td>1.00</td>\n",
              "      <td>770</td>\n",
              "      <td>10000</td>\n",
              "      <td>1.0</td>\n",
              "      <td>0</td>\n",
              "      <td>0</td>\n",
              "      <td>3</td>\n",
              "      <td>6</td>\n",
              "      <td>770</td>\n",
              "      <td>0</td>\n",
              "      <td>1933</td>\n",
              "      <td>0</td>\n",
              "      <td>98028</td>\n",
              "      <td>47.7379</td>\n",
              "      <td>-122.233</td>\n",
              "      <td>2720</td>\n",
              "      <td>8062</td>\n",
              "    </tr>\n",
              "    <tr>\n",
              "      <th>3</th>\n",
              "      <td>2487200875</td>\n",
              "      <td>20141209T000000</td>\n",
              "      <td>604000.0</td>\n",
              "      <td>4</td>\n",
              "      <td>3.00</td>\n",
              "      <td>1960</td>\n",
              "      <td>5000</td>\n",
              "      <td>1.0</td>\n",
              "      <td>0</td>\n",
              "      <td>0</td>\n",
              "      <td>5</td>\n",
              "      <td>7</td>\n",
              "      <td>1050</td>\n",
              "      <td>910</td>\n",
              "      <td>1965</td>\n",
              "      <td>0</td>\n",
              "      <td>98136</td>\n",
              "      <td>47.5208</td>\n",
              "      <td>-122.393</td>\n",
              "      <td>1360</td>\n",
              "      <td>5000</td>\n",
              "    </tr>\n",
              "    <tr>\n",
              "      <th>4</th>\n",
              "      <td>1954400510</td>\n",
              "      <td>20150218T000000</td>\n",
              "      <td>510000.0</td>\n",
              "      <td>3</td>\n",
              "      <td>2.00</td>\n",
              "      <td>1680</td>\n",
              "      <td>8080</td>\n",
              "      <td>1.0</td>\n",
              "      <td>0</td>\n",
              "      <td>0</td>\n",
              "      <td>3</td>\n",
              "      <td>8</td>\n",
              "      <td>1680</td>\n",
              "      <td>0</td>\n",
              "      <td>1987</td>\n",
              "      <td>0</td>\n",
              "      <td>98074</td>\n",
              "      <td>47.6168</td>\n",
              "      <td>-122.045</td>\n",
              "      <td>1800</td>\n",
              "      <td>7503</td>\n",
              "    </tr>\n",
              "  </tbody>\n",
              "</table>\n",
              "</div>"
            ],
            "text/plain": [
              "           id             date     price  ...     long  sqft_living15  sqft_lot15\n",
              "0  7129300520  20141013T000000  221900.0  ... -122.257           1340        5650\n",
              "1  6414100192  20141209T000000  538000.0  ... -122.319           1690        7639\n",
              "2  5631500400  20150225T000000  180000.0  ... -122.233           2720        8062\n",
              "3  2487200875  20141209T000000  604000.0  ... -122.393           1360        5000\n",
              "4  1954400510  20150218T000000  510000.0  ... -122.045           1800        7503\n",
              "\n",
              "[5 rows x 21 columns]"
            ]
          },
          "metadata": {
            "tags": []
          },
          "execution_count": 3
        }
      ]
    },
    {
      "cell_type": "markdown",
      "metadata": {
        "id": "ucKe8r9H302z"
      },
      "source": [
        "### 1) 데이터는 May 2014 ~ May 2015 의 2년치 데이터입니다. 2015-01-01 부터 큰 날짜의 데이터는 테스트, 그 이외의 데이터는 훈련 데이터셋으로 나누어 주세요\n",
        "- **훈련데이터 샘플의 갯수를 과제 제출폼에 제출하세요.**"
      ]
    },
    {
      "cell_type": "code",
      "metadata": {
        "id": "eu4Zn0Stv3W6"
      },
      "source": [
        "df['date'] = df.date.str.split('T', expand=True)"
      ],
      "execution_count": 5,
      "outputs": []
    },
    {
      "cell_type": "code",
      "metadata": {
        "colab": {
          "base_uri": "https://localhost:8080/"
        },
        "id": "l6wSFOWtwbFl",
        "outputId": "71fd5341-7d4a-4446-886b-c1160a3d685a"
      },
      "source": [
        "pd.to_datetime(df.date)"
      ],
      "execution_count": 6,
      "outputs": [
        {
          "output_type": "execute_result",
          "data": {
            "text/plain": [
              "0       2014-10-13\n",
              "1       2014-12-09\n",
              "2       2015-02-25\n",
              "3       2014-12-09\n",
              "4       2015-02-18\n",
              "           ...    \n",
              "21608   2014-05-21\n",
              "21609   2015-02-23\n",
              "21610   2014-06-23\n",
              "21611   2015-01-16\n",
              "21612   2014-10-15\n",
              "Name: date, Length: 21613, dtype: datetime64[ns]"
            ]
          },
          "metadata": {
            "tags": []
          },
          "execution_count": 6
        }
      ]
    },
    {
      "cell_type": "code",
      "metadata": {
        "id": "6vuHu2DNwd0N"
      },
      "source": [
        "test = df[df.date > '2015-01-01'] #2015년 이후 데이터는 test로\n",
        "train = df.drop(test.index) # 그 외 데이터는 train으로"
      ],
      "execution_count": 7,
      "outputs": []
    },
    {
      "cell_type": "code",
      "metadata": {
        "colab": {
          "base_uri": "https://localhost:8080/"
        },
        "id": "WMXtwmITwmb_",
        "outputId": "ca2810f1-7c83-43d7-984a-d7a42f4c8194"
      },
      "source": [
        "len(train)"
      ],
      "execution_count": null,
      "outputs": [
        {
          "output_type": "execute_result",
          "data": {
            "text/plain": [
              "14633"
            ]
          },
          "metadata": {
            "tags": []
          },
          "execution_count": 10
        }
      ]
    },
    {
      "cell_type": "markdown",
      "metadata": {
        "id": "Mv-z1hyI302z"
      },
      "source": [
        "### 2) 두 특성(bathrooms, sqft_living)을 사용해서 다중선형회귀 모델을 만들어 보세요\n",
        "- 학습시 Parameters는 모두 기본값으로 합니다.\n",
        "- **테스트세트의 MAE 값을 과제 제출폼에 제출하세요.**"
      ]
    },
    {
      "cell_type": "code",
      "metadata": {
        "id": "vz47Th5i3020"
      },
      "source": [
        "import matplotlib.pyplot as plt\n",
        "import numpy as np\n",
        "from matplotlib import style\n",
        "from sklearn.linear_model import LinearRegression\n",
        "from sklearn.metrics import mean_absolute_error\n",
        "\n",
        "model = LinearRegression()\n",
        "# label 정의\n",
        "target = 'price'\n",
        "y_train = train[target]\n",
        "y_test = test[target]\n",
        "\n",
        "# 다중모델 학습을 위한 특성\n",
        "\n",
        "features = ['bathrooms', \n",
        "            'sqft_living']\n",
        "X_train = train[features]\n",
        "X_test = test[features]\n"
      ],
      "execution_count": 8,
      "outputs": []
    },
    {
      "cell_type": "code",
      "metadata": {
        "colab": {
          "base_uri": "https://localhost:8080/"
        },
        "id": "8EhY3tOoxcGW",
        "outputId": "0432ac57-6a79-4bda-fb39-1e6f95fcef0b"
      },
      "source": [
        "model.fit(X_train, y_train)\n",
        "y_pred = model.predict(X_train)\n",
        "mae = mean_absolute_error(y_train, y_pred)\n",
        "print(f'훈련 에러: {mae:}')"
      ],
      "execution_count": 9,
      "outputs": [
        {
          "output_type": "stream",
          "text": [
            "훈련 에러: 170777.34212565765\n"
          ],
          "name": "stdout"
        }
      ]
    },
    {
      "cell_type": "code",
      "metadata": {
        "colab": {
          "base_uri": "https://localhost:8080/"
        },
        "id": "I8pLCx42yMzm",
        "outputId": "a99fc00b-b647-4af2-92eb-b84b856c34a6"
      },
      "source": [
        "# 테스트 데이터에 적용해 봅시다 \n",
        "y_pred = model.predict(X_test)\n",
        "mae = mean_absolute_error(y_test, y_pred)\n",
        "print(f'테스트 에러: {mae:}')"
      ],
      "execution_count": 10,
      "outputs": [
        {
          "output_type": "stream",
          "text": [
            "테스트 에러: 179252.52593261775\n"
          ],
          "name": "stdout"
        }
      ]
    },
    {
      "cell_type": "markdown",
      "metadata": {
        "id": "7eX8XzIn3020"
      },
      "source": [
        "### 3) 모델의 회귀계수(coefficients)와 절편(intercept)을 확인해 보세요.\n",
        "- **sqft_living의 회귀계수를 과제 제출폼에 제출하세요.**"
      ]
    },
    {
      "cell_type": "code",
      "metadata": {
        "colab": {
          "base_uri": "https://localhost:8080/"
        },
        "id": "tS-8DNdgUKsc",
        "outputId": "ddea6f89-bd61-4676-f39b-4441a0987eb0"
      },
      "source": [
        "#  bathrooms , sqft_living  회귀 계수\n",
        "model.coef_"
      ],
      "execution_count": 11,
      "outputs": [
        {
          "output_type": "execute_result",
          "data": {
            "text/plain": [
              "array([-5158.92591411,   286.13753555])"
            ]
          },
          "metadata": {
            "tags": []
          },
          "execution_count": 11
        }
      ]
    },
    {
      "cell_type": "code",
      "metadata": {
        "colab": {
          "base_uri": "https://localhost:8080/"
        },
        "id": "cS8NBXQUhMBB",
        "outputId": "a92b676a-2ad7-4417-e05e-35a49c5c8356"
      },
      "source": [
        "# sqft_living  회귀 계수\n",
        "model.coef_[1]"
      ],
      "execution_count": 12,
      "outputs": [
        {
          "output_type": "execute_result",
          "data": {
            "text/plain": [
              "286.1375355497683"
            ]
          },
          "metadata": {
            "tags": []
          },
          "execution_count": 12
        }
      ]
    },
    {
      "cell_type": "code",
      "metadata": {
        "colab": {
          "base_uri": "https://localhost:8080/"
        },
        "id": "_dM_3yZ5UP5c",
        "outputId": "5a61b724-6c6e-4192-fd62-77d0eed03918"
      },
      "source": [
        "# sqft_living, bathrooms 절편\n",
        "model.intercept_"
      ],
      "execution_count": 13,
      "outputs": [
        {
          "output_type": "execute_result",
          "data": {
            "text/plain": [
              "-50243.56279640319"
            ]
          },
          "metadata": {
            "tags": []
          },
          "execution_count": 13
        }
      ]
    },
    {
      "cell_type": "code",
      "metadata": {
        "colab": {
          "base_uri": "https://localhost:8080/",
          "height": 499
        },
        "id": "6kFijWeYRH4u",
        "outputId": "3a10fb5c-d69f-4cc8-9d96-87d13e6b079d"
      },
      "source": [
        "# 다중회귀 계수와 절편\n",
        "import statsmodels.api as sm;\n",
        "\n",
        "# 독립변수 : 'sqft_living' 종속변수 : 'price'\n",
        "df['intercept'] = 1\n",
        "lm = sm.OLS(df['price'], df[['intercept','sqft_living','bathrooms']])\n",
        "results = lm.fit()\n",
        "results.summary()"
      ],
      "execution_count": 14,
      "outputs": [
        {
          "output_type": "execute_result",
          "data": {
            "text/html": [
              "<table class=\"simpletable\">\n",
              "<caption>OLS Regression Results</caption>\n",
              "<tr>\n",
              "  <th>Dep. Variable:</th>          <td>price</td>      <th>  R-squared:         </th>  <td>   0.493</td>  \n",
              "</tr>\n",
              "<tr>\n",
              "  <th>Model:</th>                   <td>OLS</td>       <th>  Adj. R-squared:    </th>  <td>   0.493</td>  \n",
              "</tr>\n",
              "<tr>\n",
              "  <th>Method:</th>             <td>Least Squares</td>  <th>  F-statistic:       </th>  <td>1.050e+04</td> \n",
              "</tr>\n",
              "<tr>\n",
              "  <th>Date:</th>             <td>Mon, 14 Jun 2021</td> <th>  Prob (F-statistic):</th>   <td>  0.00</td>   \n",
              "</tr>\n",
              "<tr>\n",
              "  <th>Time:</th>                 <td>06:29:16</td>     <th>  Log-Likelihood:    </th> <td>-3.0027e+05</td>\n",
              "</tr>\n",
              "<tr>\n",
              "  <th>No. Observations:</th>      <td> 21613</td>      <th>  AIC:               </th>  <td>6.005e+05</td> \n",
              "</tr>\n",
              "<tr>\n",
              "  <th>Df Residuals:</th>          <td> 21610</td>      <th>  BIC:               </th>  <td>6.006e+05</td> \n",
              "</tr>\n",
              "<tr>\n",
              "  <th>Df Model:</th>              <td>     2</td>      <th>                     </th>      <td> </td>     \n",
              "</tr>\n",
              "<tr>\n",
              "  <th>Covariance Type:</th>      <td>nonrobust</td>    <th>                     </th>      <td> </td>     \n",
              "</tr>\n",
              "</table>\n",
              "<table class=\"simpletable\">\n",
              "<tr>\n",
              "       <td></td>          <th>coef</th>     <th>std err</th>      <th>t</th>      <th>P>|t|</th>  <th>[0.025</th>    <th>0.975]</th>  \n",
              "</tr>\n",
              "<tr>\n",
              "  <th>intercept</th>   <td>-3.946e+04</td> <td> 5223.129</td> <td>   -7.554</td> <td> 0.000</td> <td>-4.97e+04</td> <td>-2.92e+04</td>\n",
              "</tr>\n",
              "<tr>\n",
              "  <th>sqft_living</th> <td>  283.8919</td> <td>    2.951</td> <td>   96.194</td> <td> 0.000</td> <td>  278.107</td> <td>  289.677</td>\n",
              "</tr>\n",
              "<tr>\n",
              "  <th>bathrooms</th>   <td>-5164.6004</td> <td> 3519.452</td> <td>   -1.467</td> <td> 0.142</td> <td>-1.21e+04</td> <td> 1733.784</td>\n",
              "</tr>\n",
              "</table>\n",
              "<table class=\"simpletable\">\n",
              "<tr>\n",
              "  <th>Omnibus:</th>       <td>14813.700</td> <th>  Durbin-Watson:     </th>  <td>   1.983</td> \n",
              "</tr>\n",
              "<tr>\n",
              "  <th>Prob(Omnibus):</th>  <td> 0.000</td>   <th>  Jarque-Bera (JB):  </th> <td>544228.270</td>\n",
              "</tr>\n",
              "<tr>\n",
              "  <th>Skew:</th>           <td> 2.819</td>   <th>  Prob(JB):          </th>  <td>    0.00</td> \n",
              "</tr>\n",
              "<tr>\n",
              "  <th>Kurtosis:</th>       <td>26.928</td>   <th>  Cond. No.          </th>  <td>7.26e+03</td> \n",
              "</tr>\n",
              "</table><br/><br/>Warnings:<br/>[1] Standard Errors assume that the covariance matrix of the errors is correctly specified.<br/>[2] The condition number is large, 7.26e+03. This might indicate that there are<br/>strong multicollinearity or other numerical problems."
            ],
            "text/plain": [
              "<class 'statsmodels.iolib.summary.Summary'>\n",
              "\"\"\"\n",
              "                            OLS Regression Results                            \n",
              "==============================================================================\n",
              "Dep. Variable:                  price   R-squared:                       0.493\n",
              "Model:                            OLS   Adj. R-squared:                  0.493\n",
              "Method:                 Least Squares   F-statistic:                 1.050e+04\n",
              "Date:                Mon, 14 Jun 2021   Prob (F-statistic):               0.00\n",
              "Time:                        06:29:16   Log-Likelihood:            -3.0027e+05\n",
              "No. Observations:               21613   AIC:                         6.005e+05\n",
              "Df Residuals:                   21610   BIC:                         6.006e+05\n",
              "Df Model:                           2                                         \n",
              "Covariance Type:            nonrobust                                         \n",
              "===============================================================================\n",
              "                  coef    std err          t      P>|t|      [0.025      0.975]\n",
              "-------------------------------------------------------------------------------\n",
              "intercept   -3.946e+04   5223.129     -7.554      0.000   -4.97e+04   -2.92e+04\n",
              "sqft_living   283.8919      2.951     96.194      0.000     278.107     289.677\n",
              "bathrooms   -5164.6004   3519.452     -1.467      0.142   -1.21e+04    1733.784\n",
              "==============================================================================\n",
              "Omnibus:                    14813.700   Durbin-Watson:                   1.983\n",
              "Prob(Omnibus):                  0.000   Jarque-Bera (JB):           544228.270\n",
              "Skew:                           2.819   Prob(JB):                         0.00\n",
              "Kurtosis:                      26.928   Cond. No.                     7.26e+03\n",
              "==============================================================================\n",
              "\n",
              "Warnings:\n",
              "[1] Standard Errors assume that the covariance matrix of the errors is correctly specified.\n",
              "[2] The condition number is large, 7.26e+03. This might indicate that there are\n",
              "strong multicollinearity or other numerical problems.\n",
              "\"\"\""
            ]
          },
          "metadata": {
            "tags": []
          },
          "execution_count": 14
        }
      ]
    },
    {
      "cell_type": "code",
      "metadata": {
        "colab": {
          "base_uri": "https://localhost:8080/",
          "height": 478
        },
        "id": "MbsNKE41g4lT",
        "outputId": "3e97cd8e-388a-484f-966f-a10db7838d93"
      },
      "source": [
        "# 다중회귀 계수와 절편\n",
        "import statsmodels.api as sm;\n",
        "\n",
        "# 독립변수 : 'sqft_living' 종속변수 : 'price'\n",
        "lm = sm.OLS(df['price'], df[['sqft_living','bathrooms']])\n",
        "results = lm.fit()\n",
        "results.summary()"
      ],
      "execution_count": null,
      "outputs": [
        {
          "output_type": "execute_result",
          "data": {
            "text/html": [
              "<table class=\"simpletable\">\n",
              "<caption>OLS Regression Results</caption>\n",
              "<tr>\n",
              "  <th>Dep. Variable:</th>          <td>price</td>      <th>  R-squared (uncentered):</th>       <td>   0.839</td>  \n",
              "</tr>\n",
              "<tr>\n",
              "  <th>Model:</th>                   <td>OLS</td>       <th>  Adj. R-squared (uncentered):</th>  <td>   0.839</td>  \n",
              "</tr>\n",
              "<tr>\n",
              "  <th>Method:</th>             <td>Least Squares</td>  <th>  F-statistic:       </th>           <td>5.644e+04</td> \n",
              "</tr>\n",
              "<tr>\n",
              "  <th>Date:</th>             <td>Wed, 09 Jun 2021</td> <th>  Prob (F-statistic):</th>            <td>  0.00</td>   \n",
              "</tr>\n",
              "<tr>\n",
              "  <th>Time:</th>                 <td>06:44:26</td>     <th>  Log-Likelihood:    </th>          <td>-3.0029e+05</td>\n",
              "</tr>\n",
              "<tr>\n",
              "  <th>No. Observations:</th>      <td> 21613</td>      <th>  AIC:               </th>           <td>6.006e+05</td> \n",
              "</tr>\n",
              "<tr>\n",
              "  <th>Df Residuals:</th>          <td> 21611</td>      <th>  BIC:               </th>           <td>6.006e+05</td> \n",
              "</tr>\n",
              "<tr>\n",
              "  <th>Df Model:</th>              <td>     2</td>      <th>                     </th>               <td> </td>     \n",
              "</tr>\n",
              "<tr>\n",
              "  <th>Covariance Type:</th>      <td>nonrobust</td>    <th>                     </th>               <td> </td>     \n",
              "</tr>\n",
              "</table>\n",
              "<table class=\"simpletable\">\n",
              "<tr>\n",
              "       <td></td>          <th>coef</th>     <th>std err</th>      <th>t</th>      <th>P>|t|</th>  <th>[0.025</th>    <th>0.975]</th>  \n",
              "</tr>\n",
              "<tr>\n",
              "  <th>sqft_living</th> <td>  281.6659</td> <td>    2.940</td> <td>   95.795</td> <td> 0.000</td> <td>  275.903</td> <td>  287.429</td>\n",
              "</tr>\n",
              "<tr>\n",
              "  <th>bathrooms</th>   <td>-1.947e+04</td> <td> 2970.389</td> <td>   -6.555</td> <td> 0.000</td> <td>-2.53e+04</td> <td>-1.36e+04</td>\n",
              "</tr>\n",
              "</table>\n",
              "<table class=\"simpletable\">\n",
              "<tr>\n",
              "  <th>Omnibus:</th>       <td>15542.464</td> <th>  Durbin-Watson:     </th>  <td>   1.982</td> \n",
              "</tr>\n",
              "<tr>\n",
              "  <th>Prob(Omnibus):</th>  <td> 0.000</td>   <th>  Jarque-Bera (JB):  </th> <td>626792.603</td>\n",
              "</tr>\n",
              "<tr>\n",
              "  <th>Skew:</th>           <td> 3.002</td>   <th>  Prob(JB):          </th>  <td>    0.00</td> \n",
              "</tr>\n",
              "<tr>\n",
              "  <th>Kurtosis:</th>       <td>28.690</td>   <th>  Cond. No.          </th>  <td>3.79e+03</td> \n",
              "</tr>\n",
              "</table><br/><br/>Warnings:<br/>[1] Standard Errors assume that the covariance matrix of the errors is correctly specified.<br/>[2] The condition number is large, 3.79e+03. This might indicate that there are<br/>strong multicollinearity or other numerical problems."
            ],
            "text/plain": [
              "<class 'statsmodels.iolib.summary.Summary'>\n",
              "\"\"\"\n",
              "                                 OLS Regression Results                                \n",
              "=======================================================================================\n",
              "Dep. Variable:                  price   R-squared (uncentered):                   0.839\n",
              "Model:                            OLS   Adj. R-squared (uncentered):              0.839\n",
              "Method:                 Least Squares   F-statistic:                          5.644e+04\n",
              "Date:                Wed, 09 Jun 2021   Prob (F-statistic):                        0.00\n",
              "Time:                        06:44:26   Log-Likelihood:                     -3.0029e+05\n",
              "No. Observations:               21613   AIC:                                  6.006e+05\n",
              "Df Residuals:                   21611   BIC:                                  6.006e+05\n",
              "Df Model:                           2                                                  \n",
              "Covariance Type:            nonrobust                                                  \n",
              "===============================================================================\n",
              "                  coef    std err          t      P>|t|      [0.025      0.975]\n",
              "-------------------------------------------------------------------------------\n",
              "sqft_living   281.6659      2.940     95.795      0.000     275.903     287.429\n",
              "bathrooms   -1.947e+04   2970.389     -6.555      0.000   -2.53e+04   -1.36e+04\n",
              "==============================================================================\n",
              "Omnibus:                    15542.464   Durbin-Watson:                   1.982\n",
              "Prob(Omnibus):                  0.000   Jarque-Bera (JB):           626792.603\n",
              "Skew:                           3.002   Prob(JB):                         0.00\n",
              "Kurtosis:                      28.690   Cond. No.                     3.79e+03\n",
              "==============================================================================\n",
              "\n",
              "Warnings:\n",
              "[1] Standard Errors assume that the covariance matrix of the errors is correctly specified.\n",
              "[2] The condition number is large, 3.79e+03. This might indicate that there are\n",
              "strong multicollinearity or other numerical problems.\n",
              "\"\"\""
            ]
          },
          "metadata": {
            "tags": []
          },
          "execution_count": 87
        }
      ]
    },
    {
      "cell_type": "markdown",
      "metadata": {
        "id": "5YoBnDXAhAxj"
      },
      "source": [
        "왜 OLS함수를 써서 다중회귀계수를 쓰면 위의 값과 다른값이 나올까요?  \n",
        "이 부분은 더 찾아봐야할것 같네요"
      ]
    },
    {
      "cell_type": "markdown",
      "metadata": {
        "id": "hbyngAww3020"
      },
      "source": [
        "### 4) MSE, RMSE, MAE, $R^2$ 를 훈련/테스트 데이터에 대해 확인해 보세요\n",
        "- **테스트 데이터에 대한 R^2 값을 과제 제출폼에 제출하세요.**"
      ]
    },
    {
      "cell_type": "code",
      "metadata": {
        "id": "aU1apz5v3021",
        "colab": {
          "base_uri": "https://localhost:8080/",
          "height": 291
        },
        "outputId": "e7bdc9b1-d05e-4734-ccde-0b736ab3aaa8"
      },
      "source": [
        "import matplotlib.pyplot as plt\n",
        "import seaborn as sns\n",
        "\n",
        "# 훈련데이터 시각화\n",
        "sns.regplot(x=train['sqft_living'], y=train['price'],line_kws={'color': 'orange'});"
      ],
      "execution_count": 15,
      "outputs": [
        {
          "output_type": "display_data",
          "data": {
            "image/png": "[encoded data removed]",
            "text/plain": [
              "<Figure size 432x288 with 1 Axes>"
            ]
          },
          "metadata": {
            "tags": [],
            "needs_background": "light"
          }
        }
      ]
    },
    {
      "cell_type": "code",
      "metadata": {
        "colab": {
          "base_uri": "https://localhost:8080/",
          "height": 291
        },
        "id": "E-WGdi9U2kPy",
        "outputId": "475f7279-f78b-4c8f-e448-0330245bacf2"
      },
      "source": [
        "# 전체데이터 시각화\n",
        "sns.regplot(x=df['sqft_living'], y=df['price'],line_kws={'color': 'red'});"
      ],
      "execution_count": 16,
      "outputs": [
        {
          "output_type": "display_data",
          "data": {
            "image/png": "[encoded data removed]",
            "text/plain": [
              "<Figure size 432x288 with 1 Axes>"
            ]
          },
          "metadata": {
            "tags": [],
            "needs_background": "light"
          }
        }
      ]
    },
    {
      "cell_type": "code",
      "metadata": {
        "id": "cYfAdXXQUvsL"
      },
      "source": [
        "# 훈련 데이터에 대한 확인\n",
        "from IPython.display import display\n",
        "from matplotlib.patches import Rectangle\n",
        "from sklearn.metrics import  mean_squared_error, mean_absolute_error, r2_score\n",
        "\n",
        "def evaluation_metrics(feature, target):\n",
        "  '''\n",
        "  2d 선형회귀직선과 제곱오차(squared errors)를 확인하기 위한 함수\n",
        "  df : Pandas 데이터프레임\n",
        "  feature : 특징 열\n",
        "  target : 타겟 열\n",
        "  slope : 선형방정식의 기울기\n",
        "  intercept : 선형방정식의 y 절편\n",
        "  '''\n",
        "  X_train = train[feature]\n",
        "  X_test = test[feature]\n",
        "  y_train = train[target]\n",
        "  y_test = test[target]\n",
        "  model = LinearRegression()\n",
        "  model.fit(X_train, y_train) #모델 fit\n",
        "  train_y_pred = model.predict(X_train)\n",
        "  test_y_pred = model.predict(X_test)\n",
        "\n",
        "  # 회귀방정식 평가지표\n",
        "  train_mse = mean_squared_error(y_train, train_y_pred)\n",
        "  train_mae = mean_absolute_error(y_train, train_y_pred)\n",
        "  train_rmse = train_mse ** 0.5\n",
        "  train_r2 = r2_score(y_train, train_y_pred)\n",
        "\n",
        "  test_mse = mean_squared_error(y_test, test_y_pred)\n",
        "  test_mae = mean_absolute_error(y_test, test_y_pred)\n",
        "  test_rmse = test_mse ** 0.5\n",
        "  test_r2 = r2_score(y_test, test_y_pred)\n",
        "\n",
        "  display(pd.DataFrame([[train_mse,train_mae,train_rmse, train_r2], \n",
        "                       [test_mse, test_mae, test_rmse, test_r2]],\n",
        "          columns=['MSE', 'MAE', 'RMSE', 'R2'],\n",
        "          index = ['Train', 'Test']))\n",
        "  "
      ],
      "execution_count": 17,
      "outputs": []
    },
    {
      "cell_type": "markdown",
      "metadata": {
        "id": "lXz1r0_iU0UT"
      },
      "source": [
        ""
      ]
    },
    {
      "cell_type": "markdown",
      "metadata": {
        "id": "w8dJG5AlUzFm"
      },
      "source": [
        "**MSE** : Mean Squared Error.\n",
        "\n",
        "가장 일반적이고 직관적인 에러 지표다.\n",
        "\n",
        "관측된 값에서 예측값을 뺀 뒤, 제곱한 값을 평균낸 값이다. 값은 낮을수록 좋다.\n",
        "\n",
        "스케일에 의존적이라는 단점이 있다.\n",
        "\n",
        "**MAE** : 예측값에 실제값을 뺀 값을 절대값한 평균이다.\n",
        "\n",
        "에러의 값 그 자체를 나타낸다.\n",
        "\n",
        "**RMSE** : MSE를 제곱근한 값이다.\n",
        "\n",
        "역시 값은 낮을수록 좋다.\n",
        "\n",
        "에러 자체의 평균을 직관적으로 보여준다.\n",
        "\n",
        "**R2(R-Squared)** : 예측치와 평균의 차이 제곱의 평균 / 관측치와 평균의 차이 제곱의 평균"
      ]
    },
    {
      "cell_type": "code",
      "metadata": {
        "id": "uNwqVkk9UxqV"
      },
      "source": [
        "# 1개 feature(sqft_living) 사용 시 결과\n",
        "pd.options.display.float_format = '{:,}'.format"
      ],
      "execution_count": 20,
      "outputs": []
    },
    {
      "cell_type": "code",
      "metadata": {
        "colab": {
          "base_uri": "https://localhost:8080/",
          "height": 111
        },
        "id": "_IGSoVQCVLp4",
        "outputId": "04fafa73-2700-449b-f8ca-e6e41f102ca6"
      },
      "source": [
        "# 2개 feature(sqft_living,bathrooms) 사용 시 결과\n",
        "\n",
        "evaluation_metrics(['sqft_living', 'bathrooms'], 'price')"
      ],
      "execution_count": 21,
      "outputs": [
        {
          "output_type": "display_data",
          "data": {
            "text/html": [
              "<div>\n",
              "<style scoped>\n",
              "    .dataframe tbody tr th:only-of-type {\n",
              "        vertical-align: middle;\n",
              "    }\n",
              "\n",
              "    .dataframe tbody tr th {\n",
              "        vertical-align: top;\n",
              "    }\n",
              "\n",
              "    .dataframe thead th {\n",
              "        text-align: right;\n",
              "    }\n",
              "</style>\n",
              "<table border=\"1\" class=\"dataframe\">\n",
              "  <thead>\n",
              "    <tr style=\"text-align: right;\">\n",
              "      <th></th>\n",
              "      <th>MSE</th>\n",
              "      <th>MAE</th>\n",
              "      <th>RMSE</th>\n",
              "      <th>R2</th>\n",
              "    </tr>\n",
              "  </thead>\n",
              "  <tbody>\n",
              "    <tr>\n",
              "      <th>Train</th>\n",
              "      <td>67,099,053,309.953606</td>\n",
              "      <td>170,777.34212565763</td>\n",
              "      <td>259,034.84960513248</td>\n",
              "      <td>0.5076085988757708</td>\n",
              "    </tr>\n",
              "    <tr>\n",
              "      <th>Test</th>\n",
              "      <td>71,083,994,178.75656</td>\n",
              "      <td>179,252.52593261775</td>\n",
              "      <td>266,615.81757044455</td>\n",
              "      <td>0.45999300199894533</td>\n",
              "    </tr>\n",
              "  </tbody>\n",
              "</table>\n",
              "</div>"
            ],
            "text/plain": [
              "                        MSE  ...                  R2\n",
              "Train 67,099,053,309.953606  ...  0.5076085988757708\n",
              "Test   71,083,994,178.75656  ... 0.45999300199894533\n",
              "\n",
              "[2 rows x 4 columns]"
            ]
          },
          "metadata": {
            "tags": []
          }
        }
      ]
    },
    {
      "cell_type": "code",
      "metadata": {
        "id": "MWmQBLEm3nEA"
      },
      "source": [
        "from IPython.display import display\n",
        "from matplotlib.patches import Rectangle\n",
        "\n",
        "def evaluation_metrics(df, feature, target, slope, intercept):\n",
        "    \"\"\"\n",
        "    2d 선형회귀직선과 제곱오차(squared errors)를 확인하기 위한 함수\n",
        "    df : Pandas 데이터프레임\n",
        "    feature : 특징 열\n",
        "    target : 타겟 열\n",
        "    slope : 선형방정식의 기울기\n",
        "    intercept : 선형방정식의 y 절편\n",
        "    \"\"\"\n",
        "    \n",
        "    x = df[feature]\n",
        "    y = df[target]\n",
        "    \n",
        "    # plot 데이터\n",
        "    ax = plt.axes()\n",
        "    df.plot.scatter(feature, target, ax=ax)\n",
        "    \n",
        "    # 예측\n",
        "    y_pred = slope * x + intercept\n",
        "    \n",
        "    # plot 예측\n",
        "    ax.plot(x, y_pred)\n",
        "    \n",
        "    # Plot 제곱오차(MSE)\n",
        "    x_left, x_right = ax.get_xlim() # x-axis view limits\n",
        "    y_bottom, y_top = ax.get_ylim()\n",
        "    scale = (x_right - x_left) / (y_top - y_bottom)\n",
        "\n",
        "    for f, t, p in zip(x, y, y_pred):\n",
        "        xy = (f, min(t, p))\n",
        "        h = abs(t - p)\n",
        "        w_scaled = h * scale\n",
        "        ax.add_patch(Rectangle(xy=xy, width=w_scaled, height=h, alpha=0.2))\n",
        "    \n",
        "    # 회귀방정식 평가지표\n",
        "    mse = mean_squared_error(y, y_pred)\n",
        "    mae = mean_absolute_error(y, y_pred)\n",
        "    rmse = mse ** 0.5\n",
        "    r2 = r2_score(y, y_pred)\n",
        "\n",
        "    display(pd.DataFrame([['MSE', mse],['MAE', mae],['RMSE', rmse],['R2', r2]], columns=['Metric', 'Score']))"
      ],
      "execution_count": 22,
      "outputs": []
    },
    {
      "cell_type": "code",
      "metadata": {
        "colab": {
          "base_uri": "https://localhost:8080/",
          "height": 447
        },
        "id": "3xZBS86Z4sdU",
        "outputId": "1907510c-d058-41d0-fdf8-1b0ac294a0cb"
      },
      "source": [
        "evaluation_metrics(df, 'sqft_living', 'price', 280.6235679,-43580.74309447)"
      ],
      "execution_count": 23,
      "outputs": [
        {
          "output_type": "display_data",
          "data": {
            "text/html": [
              "<div>\n",
              "<style scoped>\n",
              "    .dataframe tbody tr th:only-of-type {\n",
              "        vertical-align: middle;\n",
              "    }\n",
              "\n",
              "    .dataframe tbody tr th {\n",
              "        vertical-align: top;\n",
              "    }\n",
              "\n",
              "    .dataframe thead th {\n",
              "        text-align: right;\n",
              "    }\n",
              "</style>\n",
              "<table border=\"1\" class=\"dataframe\">\n",
              "  <thead>\n",
              "    <tr style=\"text-align: right;\">\n",
              "      <th></th>\n",
              "      <th>Metric</th>\n",
              "      <th>Score</th>\n",
              "    </tr>\n",
              "  </thead>\n",
              "  <tbody>\n",
              "    <tr>\n",
              "      <th>0</th>\n",
              "      <td>MSE</td>\n",
              "      <td>68,351,286,833.039825</td>\n",
              "    </tr>\n",
              "    <tr>\n",
              "      <th>1</th>\n",
              "      <td>MAE</td>\n",
              "      <td>173,688.27336044516</td>\n",
              "    </tr>\n",
              "    <tr>\n",
              "      <th>2</th>\n",
              "      <td>RMSE</td>\n",
              "      <td>261,440.79030067177</td>\n",
              "    </tr>\n",
              "    <tr>\n",
              "      <th>3</th>\n",
              "      <td>R2</td>\n",
              "      <td>0.4928532179037931</td>\n",
              "    </tr>\n",
              "  </tbody>\n",
              "</table>\n",
              "</div>"
            ],
            "text/plain": [
              "  Metric                 Score\n",
              "0    MSE 68,351,286,833.039825\n",
              "1    MAE   173,688.27336044516\n",
              "2   RMSE   261,440.79030067177\n",
              "3     R2    0.4928532179037931"
            ]
          },
          "metadata": {
            "tags": []
          }
        },
        {
          "output_type": "display_data",
          "data": {
            "image/png": "[encoded data removed]",
            "text/plain": [
              "<Figure size 432x288 with 1 Axes>"
            ]
          },
          "metadata": {
            "tags": [],
            "needs_background": "light"
          }
        }
      ]
    },
    {
      "cell_type": "code",
      "metadata": {
        "colab": {
          "base_uri": "https://localhost:8080/",
          "height": 447
        },
        "id": "MLThUy1dbfaM",
        "outputId": "f3820608-19c5-499d-85e4-e147dae61673"
      },
      "source": [
        "evaluation_metrics(test, 'sqft_living', 'price', 280.6235679,-43580.74309447)"
      ],
      "execution_count": null,
      "outputs": [
        {
          "output_type": "display_data",
          "data": {
            "text/html": [
              "<div>\n",
              "<style scoped>\n",
              "    .dataframe tbody tr th:only-of-type {\n",
              "        vertical-align: middle;\n",
              "    }\n",
              "\n",
              "    .dataframe tbody tr th {\n",
              "        vertical-align: top;\n",
              "    }\n",
              "\n",
              "    .dataframe thead th {\n",
              "        text-align: right;\n",
              "    }\n",
              "</style>\n",
              "<table border=\"1\" class=\"dataframe\">\n",
              "  <thead>\n",
              "    <tr style=\"text-align: right;\">\n",
              "      <th></th>\n",
              "      <th>Metric</th>\n",
              "      <th>Score</th>\n",
              "    </tr>\n",
              "  </thead>\n",
              "  <tbody>\n",
              "    <tr>\n",
              "      <th>0</th>\n",
              "      <td>MSE</td>\n",
              "      <td>70,875,204,309.93</td>\n",
              "    </tr>\n",
              "    <tr>\n",
              "      <th>1</th>\n",
              "      <td>MAE</td>\n",
              "      <td>179,192.45</td>\n",
              "    </tr>\n",
              "    <tr>\n",
              "      <th>2</th>\n",
              "      <td>RMSE</td>\n",
              "      <td>266,223.97</td>\n",
              "    </tr>\n",
              "    <tr>\n",
              "      <th>3</th>\n",
              "      <td>R2</td>\n",
              "      <td>0.46</td>\n",
              "    </tr>\n",
              "  </tbody>\n",
              "</table>\n",
              "</div>"
            ],
            "text/plain": [
              "  Metric             Score\n",
              "0    MSE 70,875,204,309.93\n",
              "1    MAE        179,192.45\n",
              "2   RMSE        266,223.97\n",
              "3     R2              0.46"
            ]
          },
          "metadata": {
            "tags": []
          }
        },
        {
          "output_type": "display_data",
          "data": {
            "image/png": "[encoded data removed]",
            "text/plain": [
              "<Figure size 432x288 with 1 Axes>"
            ]
          },
          "metadata": {
            "tags": [],
            "needs_background": "light"
          }
        }
      ]
    },
    {
      "cell_type": "code",
      "metadata": {
        "colab": {
          "base_uri": "https://localhost:8080/",
          "height": 447
        },
        "id": "d1XlNIYvddib",
        "outputId": "76d1c14d-acc6-40cc-8c8a-082979c54659"
      },
      "source": [
        "evaluation_metrics(train, 'sqft_living', 'price', 280.6235679,-43580.74309447)"
      ],
      "execution_count": null,
      "outputs": [
        {
          "output_type": "display_data",
          "data": {
            "text/html": [
              "<div>\n",
              "<style scoped>\n",
              "    .dataframe tbody tr th:only-of-type {\n",
              "        vertical-align: middle;\n",
              "    }\n",
              "\n",
              "    .dataframe tbody tr th {\n",
              "        vertical-align: top;\n",
              "    }\n",
              "\n",
              "    .dataframe thead th {\n",
              "        text-align: right;\n",
              "    }\n",
              "</style>\n",
              "<table border=\"1\" class=\"dataframe\">\n",
              "  <thead>\n",
              "    <tr style=\"text-align: right;\">\n",
              "      <th></th>\n",
              "      <th>Metric</th>\n",
              "      <th>Score</th>\n",
              "    </tr>\n",
              "  </thead>\n",
              "  <tbody>\n",
              "    <tr>\n",
              "      <th>0</th>\n",
              "      <td>MSE</td>\n",
              "      <td>67,147,368,020.17</td>\n",
              "    </tr>\n",
              "    <tr>\n",
              "      <th>1</th>\n",
              "      <td>MAE</td>\n",
              "      <td>171,062.76</td>\n",
              "    </tr>\n",
              "    <tr>\n",
              "      <th>2</th>\n",
              "      <td>RMSE</td>\n",
              "      <td>259,128.09</td>\n",
              "    </tr>\n",
              "    <tr>\n",
              "      <th>3</th>\n",
              "      <td>R2</td>\n",
              "      <td>0.51</td>\n",
              "    </tr>\n",
              "  </tbody>\n",
              "</table>\n",
              "</div>"
            ],
            "text/plain": [
              "  Metric             Score\n",
              "0    MSE 67,147,368,020.17\n",
              "1    MAE        171,062.76\n",
              "2   RMSE        259,128.09\n",
              "3     R2              0.51"
            ]
          },
          "metadata": {
            "tags": []
          }
        },
        {
          "output_type": "display_data",
          "data": {
            "image/png": "[encoded data removed]",
            "text/plain": [
              "<Figure size 432x288 with 1 Axes>"
            ]
          },
          "metadata": {
            "tags": [],
            "needs_background": "light"
          }
        }
      ]
    },
    {
      "cell_type": "markdown",
      "metadata": {
        "id": "vn33g1c-3021"
      },
      "source": [
        "## 🔥도전과제"
      ]
    },
    {
      "cell_type": "markdown",
      "metadata": {
        "id": "eC03bhSc3021"
      },
      "source": [
        "### 5) 두가지 이상 특성을 선택하여 특성공학(feature engineering)을 진행합니다. (kaggle notebook을 참고하여 중요한 특성을 고르는 것이 힌트입니다.)\n",
        "- EDA를 자세히 진행하세요\n",
        "- 특성공학 과정을 자세히 기술하세요\n",
        "- 특성공학을 거친 특성을 포함해 다수의 특성을 사용한 모델을 학습하고 테스트 데이터에 대해 MSE, RMSE, MAE, R2 스코어를 계산하고 분석하세요\n",
        "- 만들어진 회귀계수를 사용해 모델을 설명하세요.\n",
        "- 모델이 과적합인지/과소적합인지 설명하세요.\n",
        "- 메신저 general 채널에서 4개 스코어를 제시하고 본인이 고른 특성, 특성공학 방법 등을 간략하게 공유하세요"
      ]
    },
    {
      "cell_type": "code",
      "metadata": {
        "id": "R4JdX_Jz3021",
        "colab": {
          "base_uri": "https://localhost:8080/",
          "height": 439
        },
        "outputId": "c89f9933-5a0a-4318-a709-912a2ae9dd1d"
      },
      "source": [
        "import pandas as pd\n",
        "df = pd.read_csv('https://ds-lecture-data.s3.ap-northeast-2.amazonaws.com/kc_house_data/kc_house_data.csv')\n",
        "df"
      ],
      "execution_count": null,
      "outputs": [
        {
          "output_type": "execute_result",
          "data": {
            "text/html": [
              "<div>\n",
              "<style scoped>\n",
              "    .dataframe tbody tr th:only-of-type {\n",
              "        vertical-align: middle;\n",
              "    }\n",
              "\n",
              "    .dataframe tbody tr th {\n",
              "        vertical-align: top;\n",
              "    }\n",
              "\n",
              "    .dataframe thead th {\n",
              "        text-align: right;\n",
              "    }\n",
              "</style>\n",
              "<table border=\"1\" class=\"dataframe\">\n",
              "  <thead>\n",
              "    <tr style=\"text-align: right;\">\n",
              "      <th></th>\n",
              "      <th>id</th>\n",
              "      <th>date</th>\n",
              "      <th>price</th>\n",
              "      <th>bedrooms</th>\n",
              "      <th>bathrooms</th>\n",
              "      <th>sqft_living</th>\n",
              "      <th>sqft_lot</th>\n",
              "      <th>floors</th>\n",
              "      <th>waterfront</th>\n",
              "      <th>view</th>\n",
              "      <th>condition</th>\n",
              "      <th>grade</th>\n",
              "      <th>sqft_above</th>\n",
              "      <th>sqft_basement</th>\n",
              "      <th>yr_built</th>\n",
              "      <th>yr_renovated</th>\n",
              "      <th>zipcode</th>\n",
              "      <th>lat</th>\n",
              "      <th>long</th>\n",
              "      <th>sqft_living15</th>\n",
              "      <th>sqft_lot15</th>\n",
              "    </tr>\n",
              "  </thead>\n",
              "  <tbody>\n",
              "    <tr>\n",
              "      <th>0</th>\n",
              "      <td>7129300520</td>\n",
              "      <td>20141013T000000</td>\n",
              "      <td>221900.0</td>\n",
              "      <td>3</td>\n",
              "      <td>1.00</td>\n",
              "      <td>1180</td>\n",
              "      <td>5650</td>\n",
              "      <td>1.0</td>\n",
              "      <td>0</td>\n",
              "      <td>0</td>\n",
              "      <td>3</td>\n",
              "      <td>7</td>\n",
              "      <td>1180</td>\n",
              "      <td>0</td>\n",
              "      <td>1955</td>\n",
              "      <td>0</td>\n",
              "      <td>98178</td>\n",
              "      <td>47.5112</td>\n",
              "      <td>-122.257</td>\n",
              "      <td>1340</td>\n",
              "      <td>5650</td>\n",
              "    </tr>\n",
              "    <tr>\n",
              "      <th>1</th>\n",
              "      <td>6414100192</td>\n",
              "      <td>20141209T000000</td>\n",
              "      <td>538000.0</td>\n",
              "      <td>3</td>\n",
              "      <td>2.25</td>\n",
              "      <td>2570</td>\n",
              "      <td>7242</td>\n",
              "      <td>2.0</td>\n",
              "      <td>0</td>\n",
              "      <td>0</td>\n",
              "      <td>3</td>\n",
              "      <td>7</td>\n",
              "      <td>2170</td>\n",
              "      <td>400</td>\n",
              "      <td>1951</td>\n",
              "      <td>1991</td>\n",
              "      <td>98125</td>\n",
              "      <td>47.7210</td>\n",
              "      <td>-122.319</td>\n",
              "      <td>1690</td>\n",
              "      <td>7639</td>\n",
              "    </tr>\n",
              "    <tr>\n",
              "      <th>2</th>\n",
              "      <td>5631500400</td>\n",
              "      <td>20150225T000000</td>\n",
              "      <td>180000.0</td>\n",
              "      <td>2</td>\n",
              "      <td>1.00</td>\n",
              "      <td>770</td>\n",
              "      <td>10000</td>\n",
              "      <td>1.0</td>\n",
              "      <td>0</td>\n",
              "      <td>0</td>\n",
              "      <td>3</td>\n",
              "      <td>6</td>\n",
              "      <td>770</td>\n",
              "      <td>0</td>\n",
              "      <td>1933</td>\n",
              "      <td>0</td>\n",
              "      <td>98028</td>\n",
              "      <td>47.7379</td>\n",
              "      <td>-122.233</td>\n",
              "      <td>2720</td>\n",
              "      <td>8062</td>\n",
              "    </tr>\n",
              "    <tr>\n",
              "      <th>3</th>\n",
              "      <td>2487200875</td>\n",
              "      <td>20141209T000000</td>\n",
              "      <td>604000.0</td>\n",
              "      <td>4</td>\n",
              "      <td>3.00</td>\n",
              "      <td>1960</td>\n",
              "      <td>5000</td>\n",
              "      <td>1.0</td>\n",
              "      <td>0</td>\n",
              "      <td>0</td>\n",
              "      <td>5</td>\n",
              "      <td>7</td>\n",
              "      <td>1050</td>\n",
              "      <td>910</td>\n",
              "      <td>1965</td>\n",
              "      <td>0</td>\n",
              "      <td>98136</td>\n",
              "      <td>47.5208</td>\n",
              "      <td>-122.393</td>\n",
              "      <td>1360</td>\n",
              "      <td>5000</td>\n",
              "    </tr>\n",
              "    <tr>\n",
              "      <th>4</th>\n",
              "      <td>1954400510</td>\n",
              "      <td>20150218T000000</td>\n",
              "      <td>510000.0</td>\n",
              "      <td>3</td>\n",
              "      <td>2.00</td>\n",
              "      <td>1680</td>\n",
              "      <td>8080</td>\n",
              "      <td>1.0</td>\n",
              "      <td>0</td>\n",
              "      <td>0</td>\n",
              "      <td>3</td>\n",
              "      <td>8</td>\n",
              "      <td>1680</td>\n",
              "      <td>0</td>\n",
              "      <td>1987</td>\n",
              "      <td>0</td>\n",
              "      <td>98074</td>\n",
              "      <td>47.6168</td>\n",
              "      <td>-122.045</td>\n",
              "      <td>1800</td>\n",
              "      <td>7503</td>\n",
              "    </tr>\n",
              "    <tr>\n",
              "      <th>...</th>\n",
              "      <td>...</td>\n",
              "      <td>...</td>\n",
              "      <td>...</td>\n",
              "      <td>...</td>\n",
              "      <td>...</td>\n",
              "      <td>...</td>\n",
              "      <td>...</td>\n",
              "      <td>...</td>\n",
              "      <td>...</td>\n",
              "      <td>...</td>\n",
              "      <td>...</td>\n",
              "      <td>...</td>\n",
              "      <td>...</td>\n",
              "      <td>...</td>\n",
              "      <td>...</td>\n",
              "      <td>...</td>\n",
              "      <td>...</td>\n",
              "      <td>...</td>\n",
              "      <td>...</td>\n",
              "      <td>...</td>\n",
              "      <td>...</td>\n",
              "    </tr>\n",
              "    <tr>\n",
              "      <th>21608</th>\n",
              "      <td>263000018</td>\n",
              "      <td>20140521T000000</td>\n",
              "      <td>360000.0</td>\n",
              "      <td>3</td>\n",
              "      <td>2.50</td>\n",
              "      <td>1530</td>\n",
              "      <td>1131</td>\n",
              "      <td>3.0</td>\n",
              "      <td>0</td>\n",
              "      <td>0</td>\n",
              "      <td>3</td>\n",
              "      <td>8</td>\n",
              "      <td>1530</td>\n",
              "      <td>0</td>\n",
              "      <td>2009</td>\n",
              "      <td>0</td>\n",
              "      <td>98103</td>\n",
              "      <td>47.6993</td>\n",
              "      <td>-122.346</td>\n",
              "      <td>1530</td>\n",
              "      <td>1509</td>\n",
              "    </tr>\n",
              "    <tr>\n",
              "      <th>21609</th>\n",
              "      <td>6600060120</td>\n",
              "      <td>20150223T000000</td>\n",
              "      <td>400000.0</td>\n",
              "      <td>4</td>\n",
              "      <td>2.50</td>\n",
              "      <td>2310</td>\n",
              "      <td>5813</td>\n",
              "      <td>2.0</td>\n",
              "      <td>0</td>\n",
              "      <td>0</td>\n",
              "      <td>3</td>\n",
              "      <td>8</td>\n",
              "      <td>2310</td>\n",
              "      <td>0</td>\n",
              "      <td>2014</td>\n",
              "      <td>0</td>\n",
              "      <td>98146</td>\n",
              "      <td>47.5107</td>\n",
              "      <td>-122.362</td>\n",
              "      <td>1830</td>\n",
              "      <td>7200</td>\n",
              "    </tr>\n",
              "    <tr>\n",
              "      <th>21610</th>\n",
              "      <td>1523300141</td>\n",
              "      <td>20140623T000000</td>\n",
              "      <td>402101.0</td>\n",
              "      <td>2</td>\n",
              "      <td>0.75</td>\n",
              "      <td>1020</td>\n",
              "      <td>1350</td>\n",
              "      <td>2.0</td>\n",
              "      <td>0</td>\n",
              "      <td>0</td>\n",
              "      <td>3</td>\n",
              "      <td>7</td>\n",
              "      <td>1020</td>\n",
              "      <td>0</td>\n",
              "      <td>2009</td>\n",
              "      <td>0</td>\n",
              "      <td>98144</td>\n",
              "      <td>47.5944</td>\n",
              "      <td>-122.299</td>\n",
              "      <td>1020</td>\n",
              "      <td>2007</td>\n",
              "    </tr>\n",
              "    <tr>\n",
              "      <th>21611</th>\n",
              "      <td>291310100</td>\n",
              "      <td>20150116T000000</td>\n",
              "      <td>400000.0</td>\n",
              "      <td>3</td>\n",
              "      <td>2.50</td>\n",
              "      <td>1600</td>\n",
              "      <td>2388</td>\n",
              "      <td>2.0</td>\n",
              "      <td>0</td>\n",
              "      <td>0</td>\n",
              "      <td>3</td>\n",
              "      <td>8</td>\n",
              "      <td>1600</td>\n",
              "      <td>0</td>\n",
              "      <td>2004</td>\n",
              "      <td>0</td>\n",
              "      <td>98027</td>\n",
              "      <td>47.5345</td>\n",
              "      <td>-122.069</td>\n",
              "      <td>1410</td>\n",
              "      <td>1287</td>\n",
              "    </tr>\n",
              "    <tr>\n",
              "      <th>21612</th>\n",
              "      <td>1523300157</td>\n",
              "      <td>20141015T000000</td>\n",
              "      <td>325000.0</td>\n",
              "      <td>2</td>\n",
              "      <td>0.75</td>\n",
              "      <td>1020</td>\n",
              "      <td>1076</td>\n",
              "      <td>2.0</td>\n",
              "      <td>0</td>\n",
              "      <td>0</td>\n",
              "      <td>3</td>\n",
              "      <td>7</td>\n",
              "      <td>1020</td>\n",
              "      <td>0</td>\n",
              "      <td>2008</td>\n",
              "      <td>0</td>\n",
              "      <td>98144</td>\n",
              "      <td>47.5941</td>\n",
              "      <td>-122.299</td>\n",
              "      <td>1020</td>\n",
              "      <td>1357</td>\n",
              "    </tr>\n",
              "  </tbody>\n",
              "</table>\n",
              "<p>21613 rows × 21 columns</p>\n",
              "</div>"
            ],
            "text/plain": [
              "               id             date  ...  sqft_living15  sqft_lot15\n",
              "0      7129300520  20141013T000000  ...           1340        5650\n",
              "1      6414100192  20141209T000000  ...           1690        7639\n",
              "2      5631500400  20150225T000000  ...           2720        8062\n",
              "3      2487200875  20141209T000000  ...           1360        5000\n",
              "4      1954400510  20150218T000000  ...           1800        7503\n",
              "...           ...              ...  ...            ...         ...\n",
              "21608   263000018  20140521T000000  ...           1530        1509\n",
              "21609  6600060120  20150223T000000  ...           1830        7200\n",
              "21610  1523300141  20140623T000000  ...           1020        2007\n",
              "21611   291310100  20150116T000000  ...           1410        1287\n",
              "21612  1523300157  20141015T000000  ...           1020        1357\n",
              "\n",
              "[21613 rows x 21 columns]"
            ]
          },
          "metadata": {
            "tags": []
          },
          "execution_count": 2
        }
      ]
    },
    {
      "cell_type": "markdown",
      "metadata": {
        "id": "e77sjxmlVxLo"
      },
      "source": [
        "# \n",
        "# 두가지 이상의 중요한 특성을 파악하기\n"
      ]
    },
    {
      "cell_type": "code",
      "metadata": {
        "colab": {
          "base_uri": "https://localhost:8080/"
        },
        "id": "qo46QnNLii4b",
        "outputId": "6c2e5650-08ed-442e-ba4a-e03f9f7a57f5"
      },
      "source": [
        "df.corr()['price'].sort_values(ascending=False).iloc[1:]"
      ],
      "execution_count": null,
      "outputs": [
        {
          "output_type": "execute_result",
          "data": {
            "text/plain": [
              "sqft_living      0.702035\n",
              "grade            0.667434\n",
              "sqft_above       0.605567\n",
              "sqft_living15    0.585379\n",
              "bathrooms        0.525138\n",
              "view             0.397293\n",
              "sqft_basement    0.323816\n",
              "bedrooms         0.308350\n",
              "lat              0.307003\n",
              "waterfront       0.266369\n",
              "floors           0.256794\n",
              "yr_renovated     0.126434\n",
              "sqft_lot         0.089661\n",
              "sqft_lot15       0.082447\n",
              "yr_built         0.054012\n",
              "condition        0.036362\n",
              "long             0.021626\n",
              "id              -0.016762\n",
              "zipcode         -0.053203\n",
              "Name: price, dtype: float64"
            ]
          },
          "metadata": {
            "tags": []
          },
          "execution_count": 6
        }
      ]
    },
    {
      "cell_type": "markdown",
      "metadata": {
        "id": "os3qqiY53021"
      },
      "source": [
        "## 참고자료\n",
        "* [Feature Engineering](https://en.wikipedia.org/wiki/Feature_engineering)\n",
        "* [\"A Few Useful Things to Know about Machine Learning\"](https://homes.cs.washington.edu/~pedrod/papers/cacm12.pdf)\n",
        "* [Machine Learning and AI via Brain simulations](https://forum.stanford.edu/events/2011/2011slides/plenary/2011plenaryNg.pdf)\n",
        "* [_An Introduction to Statistical Learning_](http://faculty.marshall.usc.edu/gareth-james/ISL/ISLR%20Seventh%20Printing.pdf),  Chapter 3.1, Simple Linear Regression, & Chapter 3.2, Multiple Linear Regression\n",
        "* [Brandon Foltz, Statistics 101: Simple Linear Regression](https://www.youtube.com/watch?v=ZkjP5RJLQF4)"
      ]
    }
  ]
}